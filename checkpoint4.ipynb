{
 "cells": [
  {
   "cell_type": "code",
   "execution_count": null,
   "id": "d7e41b3f-a2e7-44f4-8012-7bee16342894",
   "metadata": {},
   "outputs": [],
   "source": []
  },
  {
   "cell_type": "code",
   "execution_count": 26,
   "id": "429cc3a4-9f0c-4167-aa91-451ab0af813a",
   "metadata": {},
   "outputs": [
    {
     "name": "stdout",
     "output_type": "stream",
     "text": [
      "{'Addition': 15, 'Soustraction': 15, 'Multiplication': 0, 'Division': 'Division par zéro impossible'}\n"
     ]
    }
   ],
   "source": [
    "def calculator(num1, num2):\n",
    "    addition = num1 + num2\n",
    "    subtraction = num1 - num2\n",
    "    multiplication = num1 * num2\n",
    "    if num2 != 0:  # Pour éviter la division par zéro\n",
    "        division = num1 / num2\n",
    "    else:\n",
    "        division = \"Division par zéro impossible\"\n",
    "    \n",
    "    return {\n",
    "        'Addition': addition,\n",
    "        'Soustraction': subtraction,\n",
    "        'Multiplication': multiplication,\n",
    "        'Division': division\n",
    "    }\n",
    "\n",
    "# Exemple d'utilisation\n",
    "resultats = calculator(15, 0)\n",
    "print(resultats)\n",
    "#pour la derniere question\n",
    "def demander_calcul():\n",
    "    while True:\n",
    "        try:\n",
    "            nombre1 = float(input(\"Saisir le premier nombre : \"))\n",
    "            operateur = input(\"Saisir un opérateur (+, -, *, /) : \")\n",
    "            nombre2 = float(input(\"Saisir le deuxième nombre : \"))\n",
    "            \n",
    "            resultat = calculer(nombre1, operateur, nombre2)\n",
    "            if resultat is not None:\n",
    "                print(f\"Le résultat est : {resultat}\")\n",
    "            else:\n",
    "                print(\"Erreur lors du calcul. Veuillez réessayer.\")\n",
    "        except ValueError:\n",
    "            print(\"Entrée non valide. Veuillez saisir des nombres valides.\")\n",
    "            #break"
   ]
  },
  {
   "cell_type": "code",
   "execution_count": null,
   "id": "4ce113a1-60a6-4ea4-bf4d-6c661d556b91",
   "metadata": {},
   "outputs": [],
   "source": []
  },
  {
   "cell_type": "code",
   "execution_count": null,
   "id": "6db7b886-5527-45df-bc86-cce93ef4bfd6",
   "metadata": {},
   "outputs": [],
   "source": []
  }
 ],
 "metadata": {
  "kernelspec": {
   "display_name": "Python 3 (ipykernel)",
   "language": "python",
   "name": "python3"
  },
  "language_info": {
   "codemirror_mode": {
    "name": "ipython",
    "version": 3
   },
   "file_extension": ".py",
   "mimetype": "text/x-python",
   "name": "python",
   "nbconvert_exporter": "python",
   "pygments_lexer": "ipython3",
   "version": "3.11.7"
  }
 },
 "nbformat": 4,
 "nbformat_minor": 5
}
