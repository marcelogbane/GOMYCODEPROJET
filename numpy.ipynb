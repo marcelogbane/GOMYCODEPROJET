{
 "cells": [
  {
   "cell_type": "code",
   "execution_count": null,
   "id": "78dde494-2fbd-41ec-baeb-10ede1671a05",
   "metadata": {},
   "outputs": [],
   "source": [
    "import numpy as np\n",
    "\n",
    "#  2: \n",
    "num_students = 3  # Example: 3 students\n",
    "num_subjects = 4  # Example: 4 subjects\n",
    "\n",
    "#  3:\n",
    "grades = np.array([[85, 90, 78, 92],  # Grades for student 1\n",
    "                   [70, 65, 75, 80],  # Grades for student 2\n",
    "                   [95, 98, 100, 92]])  # Grades for student 3\n",
    "\n",
    "#  5:\n",
    "total_marks = np.sum(grades, axis=1)\n",
    "\n",
    "#  6:\n",
    "percentages = (total_marks / (num_subjects * 100)) * 100\n",
    "\n",
    "#  7:\n",
    "def calculate_grade(percentage):\n",
    "    if percentage >= 90:\n",
    "        return \"A+\"\n",
    "    elif percentage >= 80:\n",
    "        return \"A\"\n",
    "    elif percentage >= 70:\n",
    "        return \"B+\"\n",
    "    elif percentage >= 60:\n",
    "        return \"B\"\n",
    "    elif percentage >= 50:\n",
    "        return \"C\"\n",
    "    else:\n",
    "        return \"F\"\n",
    "\n",
    "grades_letters = np.array([calculate_grade(p) for p in percentages])\n",
    "\n",
    "print(\"\\nResults:\")\n",
    "print(f\"{'Student':<10} {'Total Marks':<12} {'Percentage':<12} {'Grade':<6}\")\n",
    "for i in range(num_students):\n",
    "    print(f\"{i+1:<10} {total_marks[i]:<12.2f} {percentages[i]:<12.2f} {grades_letters[i]:<6}\")\n"
   ]
  }
 ],
 "metadata": {
  "kernelspec": {
   "display_name": "Python 3 (ipykernel)",
   "language": "python",
   "name": "python3"
  },
  "language_info": {
   "codemirror_mode": {
    "name": "ipython",
    "version": 3
   },
   "file_extension": ".py",
   "mimetype": "text/x-python",
   "name": "python",
   "nbconvert_exporter": "python",
   "pygments_lexer": "ipython3",
   "version": "3.11.7"
  }
 },
 "nbformat": 4,
 "nbformat_minor": 5
}
