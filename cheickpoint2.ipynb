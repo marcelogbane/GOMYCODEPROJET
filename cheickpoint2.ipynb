{
 "cells": [
  {
   "cell_type": "code",
   "execution_count": null,
   "id": "8c06c03a-6ea2-4eaf-b573-4ea2dfd2d93c",
   "metadata": {},
   "outputs": [
    {
     "name": "stdout",
     "output_type": "stream",
     "text": [
      "Bienvenue.\n"
     ]
    }
   ],
   "source": [
    "import random\n",
    "nombre_a_deviner = random.randint(1, 100)\n",
    "supposition = 0\n",
    "print(\"Bienvenue.\")\n",
    "while supposition != nombre_a_deviner:\n",
    "    supposition = input(\"Entrez votre supposition : \")\n",
    "    supposition = int(supposition)\n",
    "if supposition < nombre_a_deviner:\n",
    "        print(\"Trop bas. Essayez encore.\")\n",
    "elif supposition > nombre_a_deviner:\n",
    "        print(\"Trop haut. Essayez encore.\")\n",
    "else:\n",
    "        print(\"Félicitations ! Vous avez deviné le nombre.\")"
   ]
  },
  {
   "cell_type": "code",
   "execution_count": null,
   "id": "26cf8c68-6b57-48a5-b49f-7ae9d7c8cba7",
   "metadata": {},
   "outputs": [],
   "source": []
  }
 ],
 "metadata": {
  "kernelspec": {
   "display_name": "Python 3 (ipykernel)",
   "language": "python",
   "name": "python3"
  },
  "language_info": {
   "codemirror_mode": {
    "name": "ipython",
    "version": 3
   },
   "file_extension": ".py",
   "mimetype": "text/x-python",
   "name": "python",
   "nbconvert_exporter": "python",
   "pygments_lexer": "ipython3",
   "version": "3.11.7"
  }
 },
 "nbformat": 4,
 "nbformat_minor": 5
}
