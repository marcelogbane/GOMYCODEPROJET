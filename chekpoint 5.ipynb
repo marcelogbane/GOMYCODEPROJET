{
 "cells": [
  {
   "cell_type": "code",
   "execution_count": 27,
   "id": "9cb3bb6e-f160-40d0-9e5a-51ab95d1a6e4",
   "metadata": {},
   "outputs": [
    {
     "name": "stdout",
     "output_type": "stream",
     "text": [
      "(1, 2, 3)\n"
     ]
    }
   ],
   "source": [
    "class Point3D:\n",
    "    def __init__(self, x, y, z):\n",
    "        self.x = x\n",
    "        self.y = y\n",
    "        self.z = z\n",
    "\n",
    "    def __repr__(self):\n",
    "        return f\"({self.x}, {self.y}, {self.z})\"\n",
    "\n",
    "# Création d'une instance de Point3D\n",
    "my_point = Point3D(1, 2, 3)\n",
    "\n",
    "# Affichage de l'instance\n",
    "print(my_point)\n"
   ]
  },
  {
   "cell_type": "code",
   "execution_count": 28,
   "id": "c1855ea2-e85c-485b-b044-29c9c979261d",
   "metadata": {},
   "outputs": [
    {
     "name": "stdout",
     "output_type": "stream",
     "text": [
      "Aire: 12\n",
      "Périmètre: 14\n"
     ]
    }
   ],
   "source": [
    "class Rectangle:\n",
    "    def __init__(self, longueur, largeur):\n",
    "        self.longueur = longueur\n",
    "        self.largeur = largeur\n",
    "\n",
    "    def aire(self):\n",
    "        return self.longueur * self.largeur\n",
    "\n",
    "    def perimetre(self):\n",
    "        return 2 * (self.longueur + self.largeur)\n",
    "\n",
    "# Création d'une instance de Rectangle avec largeur=3 et longueur=4\n",
    "my_rectangle = Rectangle(4, 3)\n",
    "\n",
    "# Calcul de l'aire et du périmètre\n",
    "aire_rectangle = my_rectangle.aire()\n",
    "perimetre_rectangle = my_rectangle.perimetre()\n",
    "\n",
    "# Affichage des résultats\n",
    "print(f\"Aire: {aire_rectangle}\")        \n",
    "print(f\"Périmètre: {perimetre_rectangle}\") "
   ]
  },
  {
   "cell_type": "code",
   "execution_count": 29,
   "id": "bf5210f0-06bf-464b-b66d-c2d6e620cfea",
   "metadata": {},
   "outputs": [
    {
     "name": "stdout",
     "output_type": "stream",
     "text": [
      "Aire du cercle: 78.53981633974483\n",
      "Périmètre du cercle: 31.41592653589793\n",
      "Le point (3, 4) est dans le cercle: True\n"
     ]
    }
   ],
   "source": [
    "import math\n",
    "\n",
    "class Circle:\n",
    "    def __init__(self, centre, rayon):\n",
    "        self.centre = centre  # centre est une instance de Point2D (ou un tuple)\n",
    "        self.rayon = rayon\n",
    "\n",
    "    def aire(self):\n",
    "        return math.pi * self.rayon ** 2\n",
    "\n",
    "    def perimetre(self):\n",
    "        return 2 * math.pi * self.rayon\n",
    "\n",
    "    def inside(self, x, y):\n",
    "        distance = math.sqrt((x - self.centre[0]) ** 2 + (y - self.centre[1]) ** 2)\n",
    "        return distance <= self.rayon\n",
    "\n",
    "# Création d'une instance de Circle\n",
    "my_circle = Circle((0, 0), 5)\n",
    "\n",
    "# Calcul de l'aire et du périmètre\n",
    "aire_circle = my_circle.aire()\n",
    "perimetre_circle = my_circle.perimetre()\n",
    "\n",
    "# Test si un point (x, y) est à l'intérieur du cercle\n",
    "inside_test = my_circle.inside(3, 4)  \n",
    "\n",
    "# Affichage des résultats\n",
    "print(f\"Aire du cercle: {aire_circle}\")\n",
    "print(f\"Périmètre du cercle: {perimetre_circle}\")\n",
    "print(f\"Le point (3, 4) est dans le cercle: {inside_test}\")"
   ]
  },
  {
   "cell_type": "code",
   "execution_count": 30,
   "id": "51304e45-896d-46e4-bc20-c8a70f08f351",
   "metadata": {},
   "outputs": [
    {
     "name": "stdout",
     "output_type": "stream",
     "text": [
      "Nouveau solde après dépôt: 1500\n",
      "Nouveau solde après retrait: 1200\n"
     ]
    }
   ],
   "source": [
    "class Bank:\n",
    "    def __init__(self, solde):\n",
    "        self.solde = solde\n",
    "\n",
    "    def depot(self, montant):\n",
    "        self.solde += montant\n",
    "        return self.solde\n",
    "\n",
    "    def retrait(self, montant):\n",
    "        if montant <= self.solde:\n",
    "            self.solde -= montant\n",
    "        else:\n",
    "            print(\"Solde insuffisant\")\n",
    "        return self.solde\n",
    "\n",
    "# Création d'une instance de Bank avec un solde initial\n",
    "my_account = Bank(1000)\n",
    "\n",
    "# Effectuer un dépôt et un retrait\n",
    "nouveau_solde_depot = my_account.depot(500)    # Dépôt de 500\n",
    "nouveau_solde_retrait = my_account.retrait(300)  # Retrait de 300\n",
    "\n",
    "# Affichage des résultats\n",
    "print(f\"Nouveau solde après dépôt: {nouveau_solde_depot}\")\n",
    "print(f\"Nouveau solde après retrait: {nouveau_solde_retrait}\")"
   ]
  },
  {
   "cell_type": "code",
   "execution_count": null,
   "id": "ce93da50-f558-42fc-b872-300610689bc8",
   "metadata": {},
   "outputs": [],
   "source": []
  }
 ],
 "metadata": {
  "kernelspec": {
   "display_name": "Python 3 (ipykernel)",
   "language": "python",
   "name": "python3"
  },
  "language_info": {
   "codemirror_mode": {
    "name": "ipython",
    "version": 3
   },
   "file_extension": ".py",
   "mimetype": "text/x-python",
   "name": "python",
   "nbconvert_exporter": "python",
   "pygments_lexer": "ipython3",
   "version": "3.11.7"
  }
 },
 "nbformat": 4,
 "nbformat_minor": 5
}
