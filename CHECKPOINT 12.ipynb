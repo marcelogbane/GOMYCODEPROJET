{
 "cells": [
  {
   "cell_type": "code",
   "execution_count": 2,
   "id": "331957db-f50d-4860-bd84-50a224b7fc6a",
   "metadata": {},
   "outputs": [
    {
     "ename": "SyntaxError",
     "evalue": "invalid syntax (535046180.py, line 4)",
     "output_type": "error",
     "traceback": [
      "\u001b[1;36m  Cell \u001b[1;32mIn[2], line 4\u001b[1;36m\u001b[0m\n\u001b[1;33m    Corrected code:\u001b[0m\n\u001b[1;37m              ^\u001b[0m\n\u001b[1;31mSyntaxError\u001b[0m\u001b[1;31m:\u001b[0m invalid syntax\n"
     ]
    }
   ],
   "source": [
    " IndexError\n",
    "mylist = [14, \"hello\", 967]\n",
    "mylist[6]\n",
    "Corrected code:\n",
    "mylist = [14, \"hello\", 967]\n",
    "print(mylist[2])  \n",
    "2. ImportError\n",
    "import Pandas\n",
    "import NumPy\n",
    "Corrected code:\n",
    "import pandas as pd\n",
    "import numpy as np\n",
    "3. SyntaxError\n",
    "Print\"python errors\"\n",
    "Corrected code:\n",
    "print(\"python errors\") \n",
    "4. KeyError\n",
    "mydictionnary = {True: \"hello\", False: \"bye\", '3': \"python\"}\n",
    "mydictionnary['True']\n",
    "Corrected code:\n",
    "mydictionnary = {True: \"hello\", False: \"bye\", '3': \"python\"}\n",
    "print(mydictionnary[True]) \n",
    "5. IndentationError\n",
    "i = 14\n",
    "while i < 78:\n",
    "print(i)\n",
    "i += 1\n",
    "Corrected code:\n",
    "i = 14\n",
    "while i < 78:\n",
    "    print(i)\n",
    "    i += 1 \n",
    "6. StopIteration\n",
    "it = iter([1, 2, 3])\n",
    "next(it)\n",
    "next(it)\n",
    "next(it)\n",
    "next(it)\n",
    "Corrected code:\n",
    "it = iter([1, 2, 3])\n",
    "print(next(it))\n",
    "print(next(it))\n",
    "print(next(it))\n",
    "try:\n",
    "    print(next(it))  \n",
    "except StopIteration:\n",
    "    print(\"No more items\")\n",
    "7. TypeError\n",
    "'15' + 15\n",
    "Corrected code:\n",
    "print(int('15') + 15) \n",
    "8. ValueError\n",
    "int('python')\n",
    "Corrected code\n",
    "try:\n",
    "    print(int('python'))  # This will raise a ValueError\n",
    "except ValueError:\n",
    "    print(\"Cannot convert 'python' to an integer\")\n",
    "9. NameError\n",
    "The variable python is not defined in the current scope, leading to a NameError.\n",
    "\n",
    "Corrected code:\n",
    "python = \"This is a string variable\"\n",
    "print(python)\n",
    "10. ZeroDivisionError\n",
    "x = 19 / 0\n",
    "Dividing by zero is not allowed in mathematics or Python, so this raises a ZeroDivisionError.\n",
    "Corrected code:\n",
    "try:\n",
    "    x = 19 / 0\n",
    "except ZeroDivisionError:\n",
    "    print(\"Cannot divide by zero\")"
   ]
  },
  {
   "cell_type": "code",
   "execution_count": null,
   "id": "eb53289b-86f7-40cb-9f95-4bf0cea9af19",
   "metadata": {},
   "outputs": [],
   "source": []
  }
 ],
 "metadata": {
  "kernelspec": {
   "display_name": "Python 3 (ipykernel)",
   "language": "python",
   "name": "python3"
  },
  "language_info": {
   "codemirror_mode": {
    "name": "ipython",
    "version": 3
   },
   "file_extension": ".py",
   "mimetype": "text/x-python",
   "name": "python",
   "nbconvert_exporter": "python",
   "pygments_lexer": "ipython3",
   "version": "3.11.7"
  }
 },
 "nbformat": 4,
 "nbformat_minor": 5
}
