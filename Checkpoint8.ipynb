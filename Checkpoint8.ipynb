{
 "cells": [
  {
   "cell_type": "code",
   "execution_count": null,
   "id": "eb8279a2-50d7-4a73-9721-f8f952b1f668",
   "metadata": {},
   "outputs": [],
   "source": [
    "import tkinter as tk\n",
    "\n",
    "# Fonction de conversion de Fahrenheit à Celsius\n",
    "def fahrenheit_to_celsius():\n",
    "    # On récupère la valeur entrée par l'utilisateur, et on la convertit en Celsius\n",
    "    fahrenheit = float(ent_temperature.get())\n",
    "    celsius = (fahrenheit - 32) * 5 / 9\n",
    "    # On affiche le résultat arrondi à deux décimales dans le label de résultat\n",
    "    lbl_result[\"text\"] = f\"{round(celsius, 2)} \\N{DEGREE CELSIUS}\"\n",
    "\n",
    "# Création de la fenêtre principale\n",
    "window = tk.Tk()\n",
    "window.title(\"Convertisseur de température\")\n",
    "window.resizable(width=False, height=False)\n",
    "\n",
    "# Cadre pour l'entrée de la température en Fahrenheit\n",
    "frm_entry = tk.Frame(master=window)\n",
    "frm_entry.grid(row=0, column=0, padx=10)\n",
    "\n",
    "# Champ d'entrée pour la température en Fahrenheit\n",
    "ent_temperature = tk.Entry(master=frm_entry, width=10)\n",
    "ent_temperature.grid(row=0, column=0, sticky=\"e\")\n",
    "\n",
    "# Label pour afficher le symbole °F\n",
    "lbl_temp = tk.Label(master=frm_entry, text=\"\\N{DEGREE FAHRENHEIT}\")\n",
    "lbl_temp.grid(row=0, column=1, sticky=\"w\")\n",
    "\n",
    "# Bouton pour lancer la conversion\n",
    "btn_convert = tk.Button(\n",
    "    master=window,\n",
    "    text=\"\\N{BLACK RIGHTWARDS ARROW}\",\n",
    "    command=fahrenheit_to_celsius\n",
    ")\n",
    "btn_convert.grid(row=0, column=1, pady=10)\n",
    "\n",
    "# Label pour afficher le résultat en Celsius\n",
    "lbl_result = tk.Label(master=window, text=\"\\N{DEGREE CELSIUS}\")\n",
    "lbl_result.grid(row=0, column=2, padx=10)\n",
    "\n",
    "# Lancement de l'application\n",
    "window.mainloop()"
   ]
  },
  {
   "cell_type": "code",
   "execution_count": null,
   "id": "3f15e7a5-f64f-4662-b4b9-20bc8f2558c4",
   "metadata": {},
   "outputs": [],
   "source": []
  }
 ],
 "metadata": {
  "kernelspec": {
   "display_name": "Python 3 (ipykernel)",
   "language": "python",
   "name": "python3"
  },
  "language_info": {
   "codemirror_mode": {
    "name": "ipython",
    "version": 3
   },
   "file_extension": ".py",
   "mimetype": "text/x-python",
   "name": "python",
   "nbconvert_exporter": "python",
   "pygments_lexer": "ipython3",
   "version": "3.11.7"
  }
 },
 "nbformat": 4,
 "nbformat_minor": 5
}
