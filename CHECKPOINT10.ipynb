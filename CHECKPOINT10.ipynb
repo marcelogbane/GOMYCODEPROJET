{
 "cells": [
  {
   "cell_type": "code",
   "execution_count": 1,
   "id": "b3e43914-d3ff-4c78-afec-58a2208893d4",
   "metadata": {},
   "outputs": [
    {
     "name": "stdout",
     "output_type": "stream",
     "text": [
      "Fichier non trouvé.\n"
     ]
    }
   ],
   "source": [
    "def read_entire_file(file_path):\n",
    "    try:\n",
    "        with open(file_path, 'r') as file:\n",
    "            content = file.read()\n",
    "            print(content)\n",
    "    except FileNotFoundError:\n",
    "        print(\"Fichier non trouvé.\")\n",
    "\n",
    "# Utilisation\n",
    "read_entire_file('chemin_du_fichier.txt')"
   ]
  },
  {
   "cell_type": "code",
   "execution_count": 2,
   "id": "c28df6bd-15dd-40fe-90bc-d3edf4427ec5",
   "metadata": {},
   "outputs": [
    {
     "name": "stdout",
     "output_type": "stream",
     "text": [
      "Fichier non trouvé.\n"
     ]
    }
   ],
   "source": [
    "def read_first_n_lines(file_path, n):\n",
    "    try:\n",
    "        with open(file_path, 'r') as file:\n",
    "            for i in range(n):\n",
    "                line = file.readline()\n",
    "                if line:\n",
    "                    print(line.strip())\n",
    "                else:\n",
    "                    break\n",
    "    except FileNotFoundError:\n",
    "        print(\"Fichier non trouvé.\")\n",
    "\n",
    "# Utilisation\n",
    "read_first_n_lines('chemin_du_fichier.txt', 5)  # Lire les 5 premières lignes"
   ]
  },
  {
   "cell_type": "code",
   "execution_count": 3,
   "id": "7e7c188a-7ca5-4dc4-aba3-1fb2d1f56408",
   "metadata": {},
   "outputs": [
    {
     "name": "stdout",
     "output_type": "stream",
     "text": [
      "Fichier non trouvé.\n"
     ]
    }
   ],
   "source": [
    "def read_last_n_lines(file_path, n):\n",
    "    try:\n",
    "        with open(file_path, 'r') as file:\n",
    "            lines = file.readlines()\n",
    "            for line in lines[-n:]:\n",
    "                print(line.strip())\n",
    "    except FileNotFoundError:\n",
    "        print(\"Fichier non trouvé.\")\n",
    "\n",
    "# Utilisation\n",
    "read_last_n_lines('chemin_du_fichier.txt', 5)  # Lire les 5 dernières lignes"
   ]
  },
  {
   "cell_type": "code",
   "execution_count": 4,
   "id": "7ce5ae5d-43c6-4a4d-b5a3-a2d415d9a0a8",
   "metadata": {},
   "outputs": [
    {
     "name": "stdout",
     "output_type": "stream",
     "text": [
      "Fichier non trouvé.\n"
     ]
    }
   ],
   "source": [
    "def count_words_in_file(file_path):\n",
    "    try:\n",
    "        with open(file_path, 'r') as file:\n",
    "            content = file.read()\n",
    "            words = content.split()\n",
    "            print(f\"Nombre de mots : {len(words)}\")\n",
    "    except FileNotFoundError:\n",
    "        print(\"Fichier non trouvé.\")\n",
    "\n",
    "# Utilisation\n",
    "count_words_in_file('chemin_du_fichier.txt')"
   ]
  },
  {
   "cell_type": "code",
   "execution_count": 5,
   "id": "59880957-0d2c-4498-9e20-3dd1cac15247",
   "metadata": {},
   "outputs": [
    {
     "name": "stdout",
     "output_type": "stream",
     "text": [
      "Fichier non trouvé.\n"
     ]
    }
   ],
   "source": [
    "from collections import deque\n",
    "\n",
    "def read_last_n_lines_efficient(file_path, n):\n",
    "    try:\n",
    "        with open(file_path, 'r') as file:\n",
    "            last_lines = deque(file, maxlen=n)  # Utilise deque pour lire efficacement les dernières lignes\n",
    "            for line in last_lines:\n",
    "                print(line.strip())\n",
    "    except FileNotFoundError:\n",
    "        print(\"Fichier non trouvé.\")\n",
    "\n",
    "# Utilisation\n",
    "read_last_n_lines_efficient('chemin_du_fichier.txt', 5)  # Lire les 5 dernières lignes"
   ]
  },
  {
   "cell_type": "code",
   "execution_count": null,
   "id": "06fbf53f-f252-43bb-a2fd-7c3b7e5eddf3",
   "metadata": {},
   "outputs": [],
   "source": []
  }
 ],
 "metadata": {
  "kernelspec": {
   "display_name": "Python 3 (ipykernel)",
   "language": "python",
   "name": "python3"
  },
  "language_info": {
   "codemirror_mode": {
    "name": "ipython",
    "version": 3
   },
   "file_extension": ".py",
   "mimetype": "text/x-python",
   "name": "python",
   "nbconvert_exporter": "python",
   "pygments_lexer": "ipython3",
   "version": "3.11.7"
  }
 },
 "nbformat": 4,
 "nbformat_minor": 5
}
