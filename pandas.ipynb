{
 "cells": [
  {
   "cell_type": "code",
   "execution_count": null,
   "id": "01a68fc1-86b4-41b1-a5e3-25df9b73e819",
   "metadata": {},
   "outputs": [],
   "source": [
    "import pandas as pd\n",
    "import numpy as np\n",
    "\n",
    "# Dictionnaire de données pour l'examen\n",
    "exam_data = {\n",
    "    'name': ['Anastasia', 'Dima', 'Katherine', 'James', 'Emily', 'Michael', 'Matthew', 'Laura', 'Kevin', 'Jonas'],\n",
    "    'score': [12.5, 9, 16.5, np.nan, 9, 20, 14.5, np.nan, 8, 19],\n",
    "    'tentatives': [1, 3, 2, 3, 2, 3, 1, 1, 2, 1],\n",
    "    'qualifier': ['oui', 'non', 'oui', 'non', 'non', 'oui', 'oui', 'non', 'non', 'oui']\n",
    "}\n",
    "\n",
    "# Étiquettes pour l'index\n",
    "labels = ['a', 'b', 'c', 'd', 'e', 'f', 'g', 'h', 'i', 'j']\n",
    "\n",
    "# Création du DataFrame\n",
    "df = pd.DataFrame(exam_data, index=labels)\n",
    "\n",
    "# 1. Afficher les trois premières lignes\n",
    "print(\"Premières trois lignes:\")\n",
    "print(df.head(3))\n",
    "\n",
    "# 2. Supprimer les lignes avec des valeurs NaN\n",
    "df_cleaned = df.dropna()\n",
    "\n",
    "# 3. Extraire les colonnes 'name' et 'score'\n",
    "name_score_df = df_cleaned[['name', 'score']]\n",
    "print(\"\\nColonnes 'name' et 'score':\")\n",
    "print(name_score_df)\n",
    "\n",
    "# 4. Ajouter une nouvelle ligne 'k'\n",
    "df_cleaned.loc['k'] = ['Suresh', 15.5, 1, 'oui']\n",
    "\n",
    "# 5. Supprimer la colonne 'tentatives'\n",
    "df_cleaned.drop('tentatives', axis=1, inplace=True)\n",
    "\n",
    "# 6. Ajouter une nouvelle colonne 'Succès'\n",
    "df_cleaned['Succès'] = df_cleaned['score'].apply(lambda x: 1 si x > 10 else 0)\n",
    "\n",
    "# 7. Exporter le DataFrame final vers un fichier CSV\n",
    "df_cleaned.to_csv('my_data.csv', index=False)\n",
    "\n",
    "# Afficher le DataFrame final\n",
    "print(\"\\nDataFrame final:\")\n",
    "print(df_cleaned)\n"
   ]
  }
 ],
 "metadata": {
  "kernelspec": {
   "display_name": "Python 3 (ipykernel)",
   "language": "python",
   "name": "python3"
  },
  "language_info": {
   "codemirror_mode": {
    "name": "ipython",
    "version": 3
   },
   "file_extension": ".py",
   "mimetype": "text/x-python",
   "name": "python",
   "nbconvert_exporter": "python",
   "pygments_lexer": "ipython3",
   "version": "3.11.7"
  }
 },
 "nbformat": 4,
 "nbformat_minor": 5
}
