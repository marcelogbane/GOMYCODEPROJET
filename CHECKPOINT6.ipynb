{
 "cells": [
  {
   "cell_type": "code",
   "execution_count": 2,
   "id": "c0f7759f-4461-4e5e-acb2-f1686c4f5b18",
   "metadata": {},
   "outputs": [
    {
     "name": "stdin",
     "output_type": "stream",
     "text": [
      "Entrez le nombre d'étudiants:  2\n",
      "Entrez le nombre de matières:  2\n",
      "Entrez le nom de l'étudiant 1:  GBANE\n",
      "Entrez le nom de l'étudiant 2:  CAMARA\n",
      "Entrez la note de GBANE dans la matière 1:  12\n",
      "Entrez la note de GBANE dans la matière 2:  17\n",
      "Entrez la note de CAMARA dans la matière 1:  32\n",
      "Entrez la note de CAMARA dans la matière 2:  2\n"
     ]
    },
    {
     "name": "stdout",
     "output_type": "stream",
     "text": [
      "\n",
      "Résultats des étudiants :\n",
      "Nom             Notes Totales   Pourcentage     Note      \n",
      "GBANE           29.0            14.50           F         \n",
      "CAMARA          34.0            17.00           F         \n"
     ]
    }
   ],
   "source": [
    "import numpy as np\n",
    "\n",
    "# Demande du nombre d'étudiants et de matières\n",
    "nombre_etudiants = int(input(\"Entrez le nombre d'étudiants: \"))\n",
    "nombre_matieres = int(input(\"Entrez le nombre de matières: \"))\n",
    "\n",
    "# Création d'un tableau Numpy pour stocker les notes (étudiants, matières)\n",
    "notes = np.zeros((nombre_etudiants, nombre_matieres))\n",
    "\n",
    "# Saisie des noms des étudiants\n",
    "noms_etudiants = []\n",
    "for i in range(nombre_etudiants):\n",
    "    nom = input(f\"Entrez le nom de l'étudiant {i + 1}: \")\n",
    "    noms_etudiants.append(nom)\n",
    "\n",
    "# Saisie des notes de chaque élève dans chaque matière\n",
    "for i in range(nombre_etudiants):\n",
    "    for j in range(nombre_matieres):\n",
    "        notes[i][j] = float(input(f\"Entrez la note de {noms_etudiants[i]} dans la matière {j + 1}: \"))\n",
    "\n",
    "# Calcul des notes totales pour chaque étudiant\n",
    "notes_totales = np.sum(notes, axis=1)\n",
    "\n",
    "# Calcul du pourcentage pour chaque étudiant\n",
    "pourcentage = (notes_totales / (nombre_matieres * 100)) * 100\n",
    "\n",
    "# Détermination de la note en fonction du pourcentage\n",
    "def calculer_note(pourcentage):\n",
    "    if pourcentage >= 90:\n",
    "        return 'A+'\n",
    "    elif pourcentage >= 80:\n",
    "        return 'A'\n",
    "    elif pourcentage >= 70:\n",
    "        return 'B+'\n",
    "    elif pourcentage >= 60:\n",
    "        return 'B'\n",
    "    elif pourcentage >= 50:\n",
    "        return 'C'\n",
    "    else:\n",
    "        return 'F'\n",
    "\n",
    "# Affichage des résultats pour chaque étudiant\n",
    "print(\"\\nRésultats des étudiants :\")\n",
    "print(\"{:<15} {:<15} {:<15} {:<10}\".format(\"Nom\", \"Notes Totales\", \"Pourcentage\", \"Note\"))\n",
    "\n",
    "for i in range(nombre_etudiants):\n",
    "    note_lettre = calculer_note(pourcentage[i])\n",
    "    print(\"{:<15} {:<15} {:<15.2f} {:<10}\".format(noms_etudiants[i], notes_totales[i], pourcentage[i], note_lettre))"
   ]
  },
  {
   "cell_type": "code",
   "execution_count": null,
   "id": "bdef7612-894b-41b8-870d-2cabc630c3c5",
   "metadata": {},
   "outputs": [],
   "source": []
  }
 ],
 "metadata": {
  "kernelspec": {
   "display_name": "Python 3 (ipykernel)",
   "language": "python",
   "name": "python3"
  },
  "language_info": {
   "codemirror_mode": {
    "name": "ipython",
    "version": 3
   },
   "file_extension": ".py",
   "mimetype": "text/x-python",
   "name": "python",
   "nbconvert_exporter": "python",
   "pygments_lexer": "ipython3",
   "version": "3.11.7"
  }
 },
 "nbformat": 4,
 "nbformat_minor": 5
}
