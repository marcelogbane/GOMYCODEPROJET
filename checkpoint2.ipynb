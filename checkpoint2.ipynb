{
 "cells": [
  {
   "cell_type": "code",
   "execution_count": null,
   "id": "704dcd42-2e4f-492c-b1fd-aeb7046b6f6a",
   "metadata": {},
   "outputs": [
    {
     "name": "stdin",
     "output_type": "stream",
     "text": [
      "entrez une supposition 10\n"
     ]
    },
    {
     "name": "stdout",
     "output_type": "stream",
     "text": [
      "la supposition est trop basse\n",
      "si ta supposition est inferieur a entier aleatoire genere alors vore supposition est trop elevee,si la supposition est superieur a l entier aleatoire genere on dira que ta supposition est trop basse , au cas contraire elle est correcte\n"
     ]
    },
    {
     "name": "stdin",
     "output_type": "stream",
     "text": [
      "entrez vore supposition 40\n",
      "entrez vore supposition 32\n",
      "entrez vore supposition 34\n",
      "entrez vore supposition 4\n",
      "entrez vore supposition 5\n",
      "entrez vore supposition 6\n",
      "entrez vore supposition 78\n"
     ]
    }
   ],
   "source": [
    "a= input(str(\"entrez une supposition\"))\n",
    "a=int(a)\n",
    "import random\n",
    "x= random.randint(1, 100)\n",
    "if a<x:\n",
    "    print(\"la supposition est trop basse\")\n",
    "elif a>x :\n",
    "   print(\"la supposition est trop haut\")\n",
    "else:\n",
    "    print(\" la supposition est correcte\")\n",
    "\n",
    "print(\"si ta supposition est inferieur a entier aleatoire genere alors vore supposition est trop elevee,si la supposition est superieur a l entier aleatoire genere on dira que ta supposition est trop basse , au cas contraire elle est correcte\")\n",
    "\n",
    "while  a!= x:\n",
    "      a= input(\"entrez vore supposition\")"
   ]
  },
  {
   "cell_type": "markdown",
   "id": "f9b47872-9b2b-414c-b798-a3a9dabd9285",
   "metadata": {},
   "source": [
    "# int("
   ]
  }
 ],
 "metadata": {
  "kernelspec": {
   "display_name": "Python 3 (ipykernel)",
   "language": "python",
   "name": "python3"
  },
  "language_info": {
   "codemirror_mode": {
    "name": "ipython",
    "version": 3
   },
   "file_extension": ".py",
   "mimetype": "text/x-python",
   "name": "python",
   "nbconvert_exporter": "python",
   "pygments_lexer": "ipython3",
   "version": "3.11.7"
  }
 },
 "nbformat": 4,
 "nbformat_minor": 5
}
