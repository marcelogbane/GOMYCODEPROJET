{
 "cells": [
  {
   "cell_type": "code",
   "execution_count": 9,
   "id": "035b3a1c-cbdf-45fd-8f39-1dca4a92eeda",
   "metadata": {},
   "outputs": [
    {
     "name": "stdout",
     "output_type": "stream",
     "text": [
      "Le produit de tous les éléments de la liste est : 36\n"
     ]
    }
   ],
   "source": [
    "liste_echantillons = [2, 3, 6]\n",
    "produit = 1\n",
    "for nombre in liste_echantillons:\n",
    "    produit *= nombre\n",
    "print(\"Le produit de tous les éléments de la liste est :\", produit)"
   ]
  },
  {
   "cell_type": "code",
   "execution_count": 10,
   "id": "2acca3dc-ec2c-4d50-b363-2b69da18acba",
   "metadata": {},
   "outputs": [
    {
     "ename": "TypeError",
     "evalue": "'int' object is not subscriptable",
     "output_type": "error",
     "traceback": [
      "\u001b[1;31m---------------------------------------------------------------------------\u001b[0m",
      "\u001b[1;31mTypeError\u001b[0m                                 Traceback (most recent call last)",
      "Cell \u001b[1;32mIn[10], line 2\u001b[0m\n\u001b[0;32m      1\u001b[0m iste_echantillons \u001b[38;5;241m=\u001b[39m [(\u001b[38;5;241m2\u001b[39m, \u001b[38;5;241m5\u001b[39m), (\u001b[38;5;241m1\u001b[39m, \u001b[38;5;241m2\u001b[39m), (\u001b[38;5;241m4\u001b[39m, \u001b[38;5;241m4\u001b[39m), (\u001b[38;5;241m2\u001b[39m, \u001b[38;5;241m3\u001b[39m), (\u001b[38;5;241m2\u001b[39m, \u001b[38;5;241m1\u001b[39m)]\n\u001b[1;32m----> 2\u001b[0m liste_triee \u001b[38;5;241m=\u001b[39m \u001b[38;5;28msorted\u001b[39m(liste_echantillons, key\u001b[38;5;241m=\u001b[39m\u001b[38;5;28;01mlambda\u001b[39;00m x: x[\u001b[38;5;241m-\u001b[39m\u001b[38;5;241m1\u001b[39m])\n\u001b[0;32m      3\u001b[0m \u001b[38;5;28mprint\u001b[39m(\u001b[38;5;124m\"\u001b[39m\u001b[38;5;124mListe triée par ordre croissant du dernier élément de chaque tuple :\u001b[39m\u001b[38;5;124m\"\u001b[39m, liste_triee)\n",
      "Cell \u001b[1;32mIn[10], line 2\u001b[0m, in \u001b[0;36m<lambda>\u001b[1;34m(x)\u001b[0m\n\u001b[0;32m      1\u001b[0m iste_echantillons \u001b[38;5;241m=\u001b[39m [(\u001b[38;5;241m2\u001b[39m, \u001b[38;5;241m5\u001b[39m), (\u001b[38;5;241m1\u001b[39m, \u001b[38;5;241m2\u001b[39m), (\u001b[38;5;241m4\u001b[39m, \u001b[38;5;241m4\u001b[39m), (\u001b[38;5;241m2\u001b[39m, \u001b[38;5;241m3\u001b[39m), (\u001b[38;5;241m2\u001b[39m, \u001b[38;5;241m1\u001b[39m)]\n\u001b[1;32m----> 2\u001b[0m liste_triee \u001b[38;5;241m=\u001b[39m \u001b[38;5;28msorted\u001b[39m(liste_echantillons, key\u001b[38;5;241m=\u001b[39m\u001b[38;5;28;01mlambda\u001b[39;00m x: x[\u001b[38;5;241m-\u001b[39m\u001b[38;5;241m1\u001b[39m])\n\u001b[0;32m      3\u001b[0m \u001b[38;5;28mprint\u001b[39m(\u001b[38;5;124m\"\u001b[39m\u001b[38;5;124mListe triée par ordre croissant du dernier élément de chaque tuple :\u001b[39m\u001b[38;5;124m\"\u001b[39m, liste_triee)\n",
      "\u001b[1;31mTypeError\u001b[0m: 'int' object is not subscriptable"
     ]
    }
   ],
   "source": [
    "iste_echantillons = [(2, 5), (1, 2), (4, 4), (2, 3), (2, 1)]\n",
    "liste_triee = sorted(liste_echantillons, key=lambda x: x[-1])\n",
    "print(\"Liste triée par ordre croissant du dernier élément de chaque tuple :\", liste_triee)"
   ]
  },
  {
   "cell_type": "code",
   "execution_count": 13,
   "id": "146a4e10-fcc6-4951-a1b3-3b31c31d6f3a",
   "metadata": {},
   "outputs": [
    {
     "name": "stdout",
     "output_type": "stream",
     "text": [
      "Résultat combiné : {'a': 400, 'b': 400, 'c': 300, 'd': 400}\n"
     ]
    }
   ],
   "source": [
    "d1 = {'a': 100, 'b': 200, 'c': 300}\n",
    "d2 = {'a': 300, 'b': 200, 'd': 400}\n",
    "resultat = {}\n",
    "for cle in d1:\n",
    "    if cle in d2:\n",
    "        resultat[cle] = d1[cle] + d2[cle]\n",
    "    else:\n",
    "        resultat[cle] = d1[cle]\n",
    "\n",
    "for cle in d2:\n",
    "    if cle not in resultat:\n",
    "        resultat[cle] = d2[cle]\n",
    "print(\"Résultat combiné :\", resultat)"
   ]
  },
  {
   "cell_type": "code",
   "execution_count": 14,
   "id": "816b4426-ed10-498d-85ee-f332dd6d3a9d",
   "metadata": {},
   "outputs": [
    {
     "name": "stdin",
     "output_type": "stream",
     "text": [
      "Entrez un nombre entier :  12\n"
     ]
    },
    {
     "name": "stdout",
     "output_type": "stream",
     "text": [
      "Le dictionnaire généré est : {1: 1, 2: 4, 3: 9, 4: 16, 5: 25, 6: 36, 7: 49, 8: 64, 9: 81, 10: 100, 11: 121, 12: 144}\n"
     ]
    }
   ],
   "source": [
    "n = int(input(\"Entrez un nombre entier : \"))\n",
    "resultat = {}\n",
    "for i in range(1, n + 1):\n",
    "    resultat[i] = i * i\n",
    "print(\"Le dictionnaire généré est :\", resultat)"
   ]
  },
  {
   "cell_type": "code",
   "execution_count": 15,
   "id": "81039783-281e-4c9a-87e5-0cee03d02ad7",
   "metadata": {},
   "outputs": [
    {
     "name": "stdout",
     "output_type": "stream",
     "text": [
      "Liste triée : [('élément3', '24.5'), ('élément2', '15.10'), ('élément1', '12.20')]\n"
     ]
    }
   ],
   "source": [
    "liste = [('élément1', '12.20'), ('élément2', '15.10'), ('élément3', '24.5')]\n",
    "liste_triee = sorted(liste, key=lambda x: float(x[1]), reverse=True)\n",
    "print(\"Liste triée :\", liste_triee)"
   ]
  },
  {
   "cell_type": "code",
   "execution_count": 16,
   "id": "683a9a68-6e08-443a-a685-376a7c2b10c7",
   "metadata": {},
   "outputs": [
    {
     "name": "stdout",
     "output_type": "stream",
     "text": [
      "Ensemble créé : {0, 1, 2, 3, 4}\n",
      "Élément : 0\n",
      "Élément : 1\n",
      "Élément : 2\n",
      "Élément : 3\n",
      "Élément : 4\n",
      "Ensemble après ajout : {0, 1, 2, 3, 4, 5, 6}\n",
      "Ensemble après suppression : {0, 2, 3, 4, 5, 6}\n",
      "Ensemble final : {0, 2, 3, 4, 5, 6}\n"
     ]
    }
   ],
   "source": [
    "mon_ensemble = {0, 1, 2, 3, 4}\n",
    "print(\"Ensemble créé :\", mon_ensemble)\n",
    "for element in mon_ensemble:\n",
    "    print(\"Élément :\", element)\n",
    "mon_ensemble.add(5)\n",
    "mon_ensemble.add(6)\n",
    "print(\"Ensemble après ajout :\", mon_ensemble)\n",
    "mon_ensemble.remove(1)\n",
    "print(\"Ensemble après suppression :\", mon_ensemble)\n",
    "\n",
    "mon_ensemble.discard(10)\n",
    "\n",
    "\n",
    "print(\"Ensemble final :\", mon_ensemble)"
   ]
  },
  {
   "cell_type": "code",
   "execution_count": null,
   "id": "242d87a2-2979-4633-8564-284b5738c319",
   "metadata": {},
   "outputs": [],
   "source": []
  },
  {
   "cell_type": "code",
   "execution_count": null,
   "id": "25174532-8e02-41fa-8b12-3a140a8bb00c",
   "metadata": {},
   "outputs": [],
   "source": []
  }
 ],
 "metadata": {
  "kernelspec": {
   "display_name": "Python 3 (ipykernel)",
   "language": "python",
   "name": "python3"
  },
  "language_info": {
   "codemirror_mode": {
    "name": "ipython",
    "version": 3
   },
   "file_extension": ".py",
   "mimetype": "text/x-python",
   "name": "python",
   "nbconvert_exporter": "python",
   "pygments_lexer": "ipython3",
   "version": "3.11.7"
  }
 },
 "nbformat": 4,
 "nbformat_minor": 5
}
